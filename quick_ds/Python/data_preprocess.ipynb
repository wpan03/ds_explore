{
 "cells": [
  {
   "cell_type": "markdown",
   "metadata": {},
   "source": [
    "## Tabular Data"
   ]
  },
  {
   "cell_type": "code",
   "execution_count": null,
   "metadata": {},
   "outputs": [],
   "source": [
    "def get_cat(df, max_unique=5, dummmy_exception=[]):\n",
    "    \n",
    "    dummies = []\n",
    "    category = []\n",
    "    object_columns = df.select_dtypes(include='object').columns\n",
    "    for i in object_columns:\n",
    "        if (len(df[i].unique()) <= max_unique) and (i not in dummy_exception):\n",
    "            dummies.append(i)\n",
    "        else:\n",
    "            category.append(i)\n",
    "            \n",
    "    for col in category + dummy_exception:\n",
    "        df[col] = df[col].astype('category')\n",
    "    \n",
    "    df_trans = pd.get_dummies(df, columns=dummies, dummy_na=True)\n",
    "    \n",
    "    return df_trans"
   ]
  }
 ],
 "metadata": {
  "kernelspec": {
   "display_name": "Python 3",
   "language": "python",
   "name": "python3"
  },
  "language_info": {
   "codemirror_mode": {
    "name": "ipython",
    "version": 3
   },
   "file_extension": ".py",
   "mimetype": "text/x-python",
   "name": "python",
   "nbconvert_exporter": "python",
   "pygments_lexer": "ipython3",
   "version": "3.7.6"
  }
 },
 "nbformat": 4,
 "nbformat_minor": 4
}
