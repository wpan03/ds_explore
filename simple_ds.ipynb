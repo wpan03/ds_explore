{
 "cells": [
  {
   "cell_type": "markdown",
   "metadata": {},
   "source": [
    "# Handy Data Science Functions"
   ]
  },
  {
   "cell_type": "markdown",
   "metadata": {},
   "source": [
    "## Tabluar Data Preprocessing"
   ]
  },
  {
   "cell_type": "code",
   "execution_count": null,
   "metadata": {},
   "outputs": [],
   "source": [
    "def get_cat(df, max_unique=5, dummmy_exception=[]):\n",
    "    \n",
    "    dummies = []\n",
    "    category = []\n",
    "    object_columns = df.select_dtypes(include='object').columns\n",
    "    for i in object_columns:\n",
    "        if (len(df[i].unique()) <= max_unique) and (i not in dummy_exception):\n",
    "            dummies.append(i)\n",
    "        else:\n",
    "            category.append(i)\n",
    "            \n",
    "    for col in category + dummy_exception:\n",
    "        df[col] = df[col].astype('category')\n",
    "    \n",
    "    df_trans = pd.get_dummies(df, columns=dummies, dummy_na=True)\n",
    "    \n",
    "    return df_trans"
   ]
  },
  {
   "cell_type": "markdown",
   "metadata": {},
   "source": [
    "## Supervised Learning"
   ]
  },
  {
   "cell_type": "markdown",
   "metadata": {},
   "source": [
    "### Random Forest"
   ]
  },
  {
   "cell_type": "code",
   "execution_count": null,
   "metadata": {},
   "outputs": [],
   "source": [
    "def get_feature_imp(df, mod_rf):\n",
    "    \n",
    "    result = pd.DataFrame()\n",
    "    result['name'] = df.columns\n",
    "    result['score'] = mod_rf.feature_importances_\n",
    "    return result.sort_values('score', ascending=False)"
   ]
  },
  {
   "cell_type": "markdown",
   "metadata": {},
   "source": [
    "## Unsupervised Learning"
   ]
  },
  {
   "cell_type": "markdown",
   "metadata": {},
   "source": [
    "### K-Means"
   ]
  },
  {
   "cell_type": "code",
   "execution_count": null,
   "metadata": {},
   "outputs": [],
   "source": [
    "def select_cluster(X, criteria='silhouette', cluster_range=range(1,10), seed=None):\n",
    "    \n",
    "    \"\"\"\n",
    "    Select the right number of clusters for k-means \n",
    "    \n",
    "    Parameters\n",
    "    ----------\n",
    "    X: numpy.ndarray or pandas.core.frame.DataFrame\n",
    "    input data\n",
    "    \n",
    "    criteria: str\n",
    "    Methods for selecting clusters, there are two options: silhouette or inertia\n",
    "    \n",
    "    cluster_range: range\n",
    "    The number of clusters you want to try \n",
    "    \n",
    "    seed: None or int\n",
    "    the random state of the KMeans, default is None\n",
    "        \n",
    "    Returns\n",
    "    -------\n",
    "    cluster_range: list\n",
    "    different number of clusters the function tried \n",
    "    \n",
    "    score: list\n",
    "    a list of scores based on your criteria\n",
    "\n",
    "    \"\"\" \n",
    "    \n",
    "    scores = []\n",
    "    \n",
    "    if criteria == 'silhouette':\n",
    "        cluster_range = list(cluster_range)\n",
    "        if 1 in cluster_range: \n",
    "            cluster_range.remove(1)\n",
    "            \n",
    "        for k in cluster_range:\n",
    "            model = KMeans(n_clusters=k,random_state=seed).fit(X)\n",
    "            score_instance = silhouette_score(X, model.labels_)\n",
    "            scores.append(score_instance)\n",
    "    \n",
    "    elif criteria == 'inertia':\n",
    "        for k in cluster_range:\n",
    "            model = KMeans(n_clusters=k, random_state=seed).fit(X)\n",
    "            scores.append(model.inertia_)\n",
    "    else:\n",
    "        print('criteria can be only be silhouette or inertia')\n",
    "        return None\n",
    "    \n",
    "    return cluster_range, scores"
   ]
  }
 ],
 "metadata": {
  "kernelspec": {
   "display_name": "Python 3",
   "language": "python",
   "name": "python3"
  },
  "language_info": {
   "codemirror_mode": {
    "name": "ipython",
    "version": 3
   },
   "file_extension": ".py",
   "mimetype": "text/x-python",
   "name": "python",
   "nbconvert_exporter": "python",
   "pygments_lexer": "ipython3",
   "version": "3.7.6"
  }
 },
 "nbformat": 4,
 "nbformat_minor": 4
}
