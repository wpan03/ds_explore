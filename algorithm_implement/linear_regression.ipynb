{
 "cells": [
  {
   "cell_type": "code",
   "execution_count": 161,
   "metadata": {},
   "outputs": [],
   "source": [
    "import pandas as pd\n",
    "import numpy as np\n",
    "import seaborn as sns"
   ]
  },
  {
   "cell_type": "code",
   "execution_count": 162,
   "metadata": {},
   "outputs": [],
   "source": [
    "class Linear_Regression:\n",
    "    \n",
    "    def __init__(self, add_one=False):\n",
    "        \n",
    "        self.add_one = add_one\n",
    "        \n",
    "    \n",
    "    def fit(self, X, Y):\n",
    "        \n",
    "        #Check X\n",
    "        if type(X) is pd.DataFrame:\n",
    "            X = X.values\n",
    "        \n",
    "        #Check Y\n",
    "        if type(Y) is pd.Series:\n",
    "            Y = Y.values\n",
    "        \n",
    "        shape = X.shape[0]\n",
    "        \n",
    "        if self.add_one:\n",
    "            ones = np.ones(shape).reshape(shape,1)\n",
    "            X = np.concatenate((ones, X), axis=1)\n",
    "        \n",
    "        x_t_x_inv = np.linalg.inv(np.matmul(X.T, X))\n",
    "        x_t_y = np.matmul(X.T, Y)\n",
    "            \n",
    "        self.params = np.matmul(x_t_x_inv, x_t_y)"
   ]
  },
  {
   "cell_type": "code",
   "execution_count": 163,
   "metadata": {},
   "outputs": [],
   "source": [
    "tips = sns.load_dataset(\"tips\")"
   ]
  },
  {
   "cell_type": "code",
   "execution_count": 164,
   "metadata": {},
   "outputs": [],
   "source": [
    "tips['ones'] = 1\n",
    "y = tips['tip'].values.reshape(244,1)\n",
    "x = tips[['ones', 'size', 'total_bill']].values"
   ]
  },
  {
   "cell_type": "code",
   "execution_count": 165,
   "metadata": {},
   "outputs": [],
   "source": [
    "my_lin_reg = Linear_Regression()"
   ]
  },
  {
   "cell_type": "code",
   "execution_count": 166,
   "metadata": {},
   "outputs": [],
   "source": [
    "my_lin_reg.fit(x, y)"
   ]
  },
  {
   "cell_type": "code",
   "execution_count": 167,
   "metadata": {},
   "outputs": [
    {
     "data": {
      "text/plain": [
       "array([[0.66894474],\n",
       "       [0.19259779],\n",
       "       [0.09271334]])"
      ]
     },
     "execution_count": 167,
     "metadata": {},
     "output_type": "execute_result"
    }
   ],
   "source": [
    "my_lin_reg.params"
   ]
  },
  {
   "cell_type": "code",
   "execution_count": 168,
   "metadata": {},
   "outputs": [],
   "source": [
    "from sklearn.linear_model import LinearRegression"
   ]
  },
  {
   "cell_type": "code",
   "execution_count": 170,
   "metadata": {},
   "outputs": [
    {
     "data": {
      "text/plain": [
       "array([[0.66894474, 0.19259779, 0.09271334]])"
      ]
     },
     "execution_count": 170,
     "metadata": {},
     "output_type": "execute_result"
    }
   ],
   "source": [
    "sk_lin_reg = LinearRegression(fit_intercept=False)\n",
    "sk_lin_reg.fit(x,y)\n",
    "sk_lin_reg.coef_"
   ]
  }
 ],
 "metadata": {
  "kernelspec": {
   "display_name": "Python 3",
   "language": "python",
   "name": "python3"
  },
  "language_info": {
   "codemirror_mode": {
    "name": "ipython",
    "version": 3
   },
   "file_extension": ".py",
   "mimetype": "text/x-python",
   "name": "python",
   "nbconvert_exporter": "python",
   "pygments_lexer": "ipython3",
   "version": "3.7.9"
  }
 },
 "nbformat": 4,
 "nbformat_minor": 4
}
